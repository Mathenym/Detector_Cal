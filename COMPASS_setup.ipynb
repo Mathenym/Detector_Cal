{
 "cells": [
  {
   "cell_type": "markdown",
   "metadata": {},
   "source": [
    "# COMPASS Instructions\n",
    "\n",
    "## 1) Open Compass and Create a New Project. \n",
    "\n",
    "\n",
    "\n",
    "## 2) Data Collection Set Up. \n",
    "#### Before we collect data, we need to connect to the digitizer and set desired settings: \n",
    "\n",
    "* Connect to the digitizer by clicking **'add board'** Make sure that **“USB”** is checked and leave all the setting on zero. Then click **“Ok.”** \n",
    "\n",
    "* In the tool bar click the button that looks like a plug (third from right) to connect the digitizer. Once done, the settings window should appear. \n",
    "\n",
    "## 3) Settings\n",
    "\n",
    "### Aquisition Tab\n",
    "\n",
    "* Set Run ID to: Det_Serial#_NaI_1000V_133Ba_22Na (Serial# can be found on rectangular mount portion of the detector) \n",
    "\n",
    "* Check all of the following and confirm that **“File Format”** is set to **“ROOT.”**: \n",
    "    * Save Raw Data\n",
    "    * Save Filtered data\n",
    "    * Save Calibrated Data \n",
    "    * Save all spectra on stop acquisition \n",
    "    * Energy\n",
    "\n",
    "### Settings Tab\n",
    "\n",
    "#### Input tab\n",
    "\n",
    "* Change **Record length** to 5000. ( the number automatically changes to 4992) \n",
    "\n",
    "#### Discriminator Tab\n",
    "\n",
    "* Change **“Threshold”** to a value between 3-5. (I found that 3 works really well) \n",
    "\n",
    "#### Sync/Trig tab \n",
    "\n",
    "* Only check **“Global OR”**  \n",
    "\n",
    "## 4) Collect Data\n",
    "\n",
    "* To start collecting data click the play button (furthest right on toolbar) \n",
    "* To view data collection, click the icon to the left of the play button that looks like a graph. \n",
    "* A separate window will appear. To show data, click the icon furthest left in the tool bar. \n",
    "    * The window may be scaled to large to see that data. Click and drag on the x axis and highlight the area you wish to view. \n",
    "    * It will be easier to see the peaks if you use a log scale. Click the button to the left of the icon that looks like a normal curve.\n",
    "* Collect data for ~30 minutes. (adjust time as needed) \n",
    "* When done, click the red stop button on the tool bar. This will stop data aquisition, and save all of the data. \n",
    "* **BEFORE** closing COMPASS, you need to take a screen shot of the spectrum. Do so by clicking the the **camera** icon in the tool bar. Should look like this:  \n",
    "\n",
    "<img src=\"Docs_and_ Pics/Pictures/Screenshot_example.png\" style=\"width:800px;height:400px\"/>"
   ]
  },
  {
   "cell_type": "markdown",
   "metadata": {},
   "source": [
    "## 5) Move Data for Calibration. \n",
    "In this directory, you can see that there is a **Data** folder. In the Data folder you need to create a folder for the detector that you are using. For example: Det_65008-01994. Within that folder, create two folders. One titled ‘Figures’ and another titled ‘Run_07-23-2019_filterd_Data’ where you replace date with the current date. **If there is an existing folder for the detector that you are using, you only need to create a new 'run' folder like the one noted above**. \n",
    "* Navigate to where the COMPASS data was save. Locate the **Filterd Data** folder. Within that folder there will be several **.root** files. You need to copy all of them into the 'Run' folder you just created.  "
   ]
  },
  {
   "cell_type": "code",
   "execution_count": null,
   "metadata": {},
   "outputs": [],
   "source": []
  }
 ],
 "metadata": {
  "kernelspec": {
   "display_name": "Python 3",
   "language": "python",
   "name": "python3"
  },
  "language_info": {
   "codemirror_mode": {
    "name": "ipython",
    "version": 3
   },
   "file_extension": ".py",
   "mimetype": "text/x-python",
   "name": "python",
   "nbconvert_exporter": "python",
   "pygments_lexer": "ipython3",
   "version": "3.7.3"
  }
 },
 "nbformat": 4,
 "nbformat_minor": 2
}
